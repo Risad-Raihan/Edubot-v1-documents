{
  "nbformat": 4,
  "nbformat_minor": 0,
  "metadata": {
    "colab": {
      "provenance": [],
      "gpuType": "T4",
      "include_colab_link": true
    },
    "kernelspec": {
      "name": "python3",
      "display_name": "Python 3"
    },
    "language_info": {
      "name": "python"
    },
    "accelerator": "GPU"
  },
  "cells": [
    {
      "cell_type": "markdown",
      "metadata": {
        "id": "view-in-github",
        "colab_type": "text"
      },
      "source": [
        "<a href=\"https://colab.research.google.com/github/Risad-Raihan/Edubot-v1-documents/blob/main/whisper_tesing.ipynb\" target=\"_parent\"><img src=\"https://colab.research.google.com/assets/colab-badge.svg\" alt=\"Open In Colab\"/></a>"
      ]
    },
    {
      "cell_type": "code",
      "execution_count": null,
      "metadata": {
        "colab": {
          "base_uri": "https://localhost:8080/"
        },
        "id": "_f2I5Fzj5ssx",
        "outputId": "2590f655-5876-41d0-9bb5-b0e295a34251"
      },
      "outputs": [
        {
          "output_type": "stream",
          "name": "stdout",
          "text": [
            "Requirement already satisfied: openai-whisper in /usr/local/lib/python3.12/dist-packages (20250625)\n",
            "Requirement already satisfied: more-itertools in /usr/local/lib/python3.12/dist-packages (from openai-whisper) (10.8.0)\n",
            "Requirement already satisfied: numba in /usr/local/lib/python3.12/dist-packages (from openai-whisper) (0.60.0)\n",
            "Requirement already satisfied: numpy in /usr/local/lib/python3.12/dist-packages (from openai-whisper) (2.0.2)\n",
            "Requirement already satisfied: tiktoken in /usr/local/lib/python3.12/dist-packages (from openai-whisper) (0.11.0)\n",
            "Requirement already satisfied: torch in /usr/local/lib/python3.12/dist-packages (from openai-whisper) (2.8.0+cu126)\n",
            "Requirement already satisfied: tqdm in /usr/local/lib/python3.12/dist-packages (from openai-whisper) (4.67.1)\n",
            "Requirement already satisfied: triton>=2 in /usr/local/lib/python3.12/dist-packages (from openai-whisper) (3.4.0)\n",
            "Requirement already satisfied: setuptools>=40.8.0 in /usr/local/lib/python3.12/dist-packages (from triton>=2->openai-whisper) (75.2.0)\n",
            "Requirement already satisfied: llvmlite<0.44,>=0.43.0dev0 in /usr/local/lib/python3.12/dist-packages (from numba->openai-whisper) (0.43.0)\n",
            "Requirement already satisfied: regex>=2022.1.18 in /usr/local/lib/python3.12/dist-packages (from tiktoken->openai-whisper) (2024.11.6)\n",
            "Requirement already satisfied: requests>=2.26.0 in /usr/local/lib/python3.12/dist-packages (from tiktoken->openai-whisper) (2.32.4)\n",
            "Requirement already satisfied: filelock in /usr/local/lib/python3.12/dist-packages (from torch->openai-whisper) (3.19.1)\n",
            "Requirement already satisfied: typing-extensions>=4.10.0 in /usr/local/lib/python3.12/dist-packages (from torch->openai-whisper) (4.15.0)\n",
            "Requirement already satisfied: sympy>=1.13.3 in /usr/local/lib/python3.12/dist-packages (from torch->openai-whisper) (1.13.3)\n",
            "Requirement already satisfied: networkx in /usr/local/lib/python3.12/dist-packages (from torch->openai-whisper) (3.5)\n",
            "Requirement already satisfied: jinja2 in /usr/local/lib/python3.12/dist-packages (from torch->openai-whisper) (3.1.6)\n",
            "Requirement already satisfied: fsspec in /usr/local/lib/python3.12/dist-packages (from torch->openai-whisper) (2025.3.0)\n",
            "Requirement already satisfied: nvidia-cuda-nvrtc-cu12==12.6.77 in /usr/local/lib/python3.12/dist-packages (from torch->openai-whisper) (12.6.77)\n",
            "Requirement already satisfied: nvidia-cuda-runtime-cu12==12.6.77 in /usr/local/lib/python3.12/dist-packages (from torch->openai-whisper) (12.6.77)\n",
            "Requirement already satisfied: nvidia-cuda-cupti-cu12==12.6.80 in /usr/local/lib/python3.12/dist-packages (from torch->openai-whisper) (12.6.80)\n",
            "Requirement already satisfied: nvidia-cudnn-cu12==9.10.2.21 in /usr/local/lib/python3.12/dist-packages (from torch->openai-whisper) (9.10.2.21)\n",
            "Requirement already satisfied: nvidia-cublas-cu12==12.6.4.1 in /usr/local/lib/python3.12/dist-packages (from torch->openai-whisper) (12.6.4.1)\n",
            "Requirement already satisfied: nvidia-cufft-cu12==11.3.0.4 in /usr/local/lib/python3.12/dist-packages (from torch->openai-whisper) (11.3.0.4)\n",
            "Requirement already satisfied: nvidia-curand-cu12==10.3.7.77 in /usr/local/lib/python3.12/dist-packages (from torch->openai-whisper) (10.3.7.77)\n",
            "Requirement already satisfied: nvidia-cusolver-cu12==11.7.1.2 in /usr/local/lib/python3.12/dist-packages (from torch->openai-whisper) (11.7.1.2)\n",
            "Requirement already satisfied: nvidia-cusparse-cu12==12.5.4.2 in /usr/local/lib/python3.12/dist-packages (from torch->openai-whisper) (12.5.4.2)\n",
            "Requirement already satisfied: nvidia-cusparselt-cu12==0.7.1 in /usr/local/lib/python3.12/dist-packages (from torch->openai-whisper) (0.7.1)\n",
            "Requirement already satisfied: nvidia-nccl-cu12==2.27.3 in /usr/local/lib/python3.12/dist-packages (from torch->openai-whisper) (2.27.3)\n",
            "Requirement already satisfied: nvidia-nvtx-cu12==12.6.77 in /usr/local/lib/python3.12/dist-packages (from torch->openai-whisper) (12.6.77)\n",
            "Requirement already satisfied: nvidia-nvjitlink-cu12==12.6.85 in /usr/local/lib/python3.12/dist-packages (from torch->openai-whisper) (12.6.85)\n",
            "Requirement already satisfied: nvidia-cufile-cu12==1.11.1.6 in /usr/local/lib/python3.12/dist-packages (from torch->openai-whisper) (1.11.1.6)\n",
            "Requirement already satisfied: charset_normalizer<4,>=2 in /usr/local/lib/python3.12/dist-packages (from requests>=2.26.0->tiktoken->openai-whisper) (3.4.3)\n",
            "Requirement already satisfied: idna<4,>=2.5 in /usr/local/lib/python3.12/dist-packages (from requests>=2.26.0->tiktoken->openai-whisper) (3.10)\n",
            "Requirement already satisfied: urllib3<3,>=1.21.1 in /usr/local/lib/python3.12/dist-packages (from requests>=2.26.0->tiktoken->openai-whisper) (2.5.0)\n",
            "Requirement already satisfied: certifi>=2017.4.17 in /usr/local/lib/python3.12/dist-packages (from requests>=2.26.0->tiktoken->openai-whisper) (2025.8.3)\n",
            "Requirement already satisfied: mpmath<1.4,>=1.1.0 in /usr/local/lib/python3.12/dist-packages (from sympy>=1.13.3->torch->openai-whisper) (1.3.0)\n",
            "Requirement already satisfied: MarkupSafe>=2.0 in /usr/local/lib/python3.12/dist-packages (from jinja2->torch->openai-whisper) (3.0.2)\n",
            "Requirement already satisfied: moviepy in /usr/local/lib/python3.12/dist-packages (1.0.3)\n",
            "Requirement already satisfied: decorator<5.0,>=4.0.2 in /usr/local/lib/python3.12/dist-packages (from moviepy) (4.4.2)\n",
            "Requirement already satisfied: tqdm<5.0,>=4.11.2 in /usr/local/lib/python3.12/dist-packages (from moviepy) (4.67.1)\n",
            "Requirement already satisfied: requests<3.0,>=2.8.1 in /usr/local/lib/python3.12/dist-packages (from moviepy) (2.32.4)\n",
            "Requirement already satisfied: proglog<=1.0.0 in /usr/local/lib/python3.12/dist-packages (from moviepy) (0.1.12)\n",
            "Requirement already satisfied: numpy>=1.17.3 in /usr/local/lib/python3.12/dist-packages (from moviepy) (2.0.2)\n",
            "Requirement already satisfied: imageio<3.0,>=2.5 in /usr/local/lib/python3.12/dist-packages (from moviepy) (2.37.0)\n",
            "Requirement already satisfied: imageio-ffmpeg>=0.2.0 in /usr/local/lib/python3.12/dist-packages (from moviepy) (0.6.0)\n",
            "Requirement already satisfied: pillow>=8.3.2 in /usr/local/lib/python3.12/dist-packages (from imageio<3.0,>=2.5->moviepy) (11.3.0)\n",
            "Requirement already satisfied: charset_normalizer<4,>=2 in /usr/local/lib/python3.12/dist-packages (from requests<3.0,>=2.8.1->moviepy) (3.4.3)\n",
            "Requirement already satisfied: idna<4,>=2.5 in /usr/local/lib/python3.12/dist-packages (from requests<3.0,>=2.8.1->moviepy) (3.10)\n",
            "Requirement already satisfied: urllib3<3,>=1.21.1 in /usr/local/lib/python3.12/dist-packages (from requests<3.0,>=2.8.1->moviepy) (2.5.0)\n",
            "Requirement already satisfied: certifi>=2017.4.17 in /usr/local/lib/python3.12/dist-packages (from requests<3.0,>=2.8.1->moviepy) (2025.8.3)\n"
          ]
        }
      ],
      "source": [
        "!pip install openai-whisper\n",
        "!pip install moviepy"
      ]
    },
    {
      "cell_type": "code",
      "source": [
        "import whisper\n",
        "import os\n",
        "from moviepy.editor import VideoFileClip\n",
        "import torch"
      ],
      "metadata": {
        "id": "qC6pNVI752eV"
      },
      "execution_count": null,
      "outputs": []
    },
    {
      "cell_type": "code",
      "source": [
        "print(f\"CUDA available: {torch.cuda.is_available()}\")\n",
        "print(f\"GPU device: {torch.cuda.get_device_name(0) if torch.cuda.is_available() else 'None'}\")"
      ],
      "metadata": {
        "colab": {
          "base_uri": "https://localhost:8080/"
        },
        "id": "SA4O9Xje6Cfn",
        "outputId": "f982b553-57d0-4ca7-a655-4276ff531a81"
      },
      "execution_count": null,
      "outputs": [
        {
          "output_type": "stream",
          "name": "stdout",
          "text": [
            "CUDA available: True\n",
            "GPU device: Tesla T4\n"
          ]
        }
      ]
    },
    {
      "cell_type": "code",
      "source": [
        "MODEL_SIZE = \"large\"  # Change this as needed\n",
        "print(f\"Loading Whisper model: {MODEL_SIZE}\")\n",
        "model = whisper.load_model(MODEL_SIZE)"
      ],
      "metadata": {
        "colab": {
          "base_uri": "https://localhost:8080/"
        },
        "id": "W5-mtTXc6KGo",
        "outputId": "2cdea56e-c210-487e-aab1-74da8ec8b55a"
      },
      "execution_count": null,
      "outputs": [
        {
          "output_type": "stream",
          "name": "stdout",
          "text": [
            "Loading Whisper model: large\n"
          ]
        }
      ]
    },
    {
      "cell_type": "code",
      "source": [
        "from google.colab import files\n",
        "print(\"Please upload your video file:\")\n",
        "uploaded = files.upload()"
      ],
      "metadata": {
        "colab": {
          "base_uri": "https://localhost:8080/",
          "height": 93
        },
        "id": "PDHhthoC6SJS",
        "outputId": "9bfbe56f-9676-4de2-ae07-8681364a166f"
      },
      "execution_count": null,
      "outputs": [
        {
          "output_type": "stream",
          "name": "stdout",
          "text": [
            "Please upload your video file:\n"
          ]
        },
        {
          "output_type": "display_data",
          "data": {
            "text/plain": [
              "<IPython.core.display.HTML object>"
            ],
            "text/html": [
              "\n",
              "     <input type=\"file\" id=\"files-43e81a03-e073-40a8-be29-164d7f34f5fb\" name=\"files[]\" multiple disabled\n",
              "        style=\"border:none\" />\n",
              "     <output id=\"result-43e81a03-e073-40a8-be29-164d7f34f5fb\">\n",
              "      Upload widget is only available when the cell has been executed in the\n",
              "      current browser session. Please rerun this cell to enable.\n",
              "      </output>\n",
              "      <script>// Copyright 2017 Google LLC\n",
              "//\n",
              "// Licensed under the Apache License, Version 2.0 (the \"License\");\n",
              "// you may not use this file except in compliance with the License.\n",
              "// You may obtain a copy of the License at\n",
              "//\n",
              "//      http://www.apache.org/licenses/LICENSE-2.0\n",
              "//\n",
              "// Unless required by applicable law or agreed to in writing, software\n",
              "// distributed under the License is distributed on an \"AS IS\" BASIS,\n",
              "// WITHOUT WARRANTIES OR CONDITIONS OF ANY KIND, either express or implied.\n",
              "// See the License for the specific language governing permissions and\n",
              "// limitations under the License.\n",
              "\n",
              "/**\n",
              " * @fileoverview Helpers for google.colab Python module.\n",
              " */\n",
              "(function(scope) {\n",
              "function span(text, styleAttributes = {}) {\n",
              "  const element = document.createElement('span');\n",
              "  element.textContent = text;\n",
              "  for (const key of Object.keys(styleAttributes)) {\n",
              "    element.style[key] = styleAttributes[key];\n",
              "  }\n",
              "  return element;\n",
              "}\n",
              "\n",
              "// Max number of bytes which will be uploaded at a time.\n",
              "const MAX_PAYLOAD_SIZE = 100 * 1024;\n",
              "\n",
              "function _uploadFiles(inputId, outputId) {\n",
              "  const steps = uploadFilesStep(inputId, outputId);\n",
              "  const outputElement = document.getElementById(outputId);\n",
              "  // Cache steps on the outputElement to make it available for the next call\n",
              "  // to uploadFilesContinue from Python.\n",
              "  outputElement.steps = steps;\n",
              "\n",
              "  return _uploadFilesContinue(outputId);\n",
              "}\n",
              "\n",
              "// This is roughly an async generator (not supported in the browser yet),\n",
              "// where there are multiple asynchronous steps and the Python side is going\n",
              "// to poll for completion of each step.\n",
              "// This uses a Promise to block the python side on completion of each step,\n",
              "// then passes the result of the previous step as the input to the next step.\n",
              "function _uploadFilesContinue(outputId) {\n",
              "  const outputElement = document.getElementById(outputId);\n",
              "  const steps = outputElement.steps;\n",
              "\n",
              "  const next = steps.next(outputElement.lastPromiseValue);\n",
              "  return Promise.resolve(next.value.promise).then((value) => {\n",
              "    // Cache the last promise value to make it available to the next\n",
              "    // step of the generator.\n",
              "    outputElement.lastPromiseValue = value;\n",
              "    return next.value.response;\n",
              "  });\n",
              "}\n",
              "\n",
              "/**\n",
              " * Generator function which is called between each async step of the upload\n",
              " * process.\n",
              " * @param {string} inputId Element ID of the input file picker element.\n",
              " * @param {string} outputId Element ID of the output display.\n",
              " * @return {!Iterable<!Object>} Iterable of next steps.\n",
              " */\n",
              "function* uploadFilesStep(inputId, outputId) {\n",
              "  const inputElement = document.getElementById(inputId);\n",
              "  inputElement.disabled = false;\n",
              "\n",
              "  const outputElement = document.getElementById(outputId);\n",
              "  outputElement.innerHTML = '';\n",
              "\n",
              "  const pickedPromise = new Promise((resolve) => {\n",
              "    inputElement.addEventListener('change', (e) => {\n",
              "      resolve(e.target.files);\n",
              "    });\n",
              "  });\n",
              "\n",
              "  const cancel = document.createElement('button');\n",
              "  inputElement.parentElement.appendChild(cancel);\n",
              "  cancel.textContent = 'Cancel upload';\n",
              "  const cancelPromise = new Promise((resolve) => {\n",
              "    cancel.onclick = () => {\n",
              "      resolve(null);\n",
              "    };\n",
              "  });\n",
              "\n",
              "  // Wait for the user to pick the files.\n",
              "  const files = yield {\n",
              "    promise: Promise.race([pickedPromise, cancelPromise]),\n",
              "    response: {\n",
              "      action: 'starting',\n",
              "    }\n",
              "  };\n",
              "\n",
              "  cancel.remove();\n",
              "\n",
              "  // Disable the input element since further picks are not allowed.\n",
              "  inputElement.disabled = true;\n",
              "\n",
              "  if (!files) {\n",
              "    return {\n",
              "      response: {\n",
              "        action: 'complete',\n",
              "      }\n",
              "    };\n",
              "  }\n",
              "\n",
              "  for (const file of files) {\n",
              "    const li = document.createElement('li');\n",
              "    li.append(span(file.name, {fontWeight: 'bold'}));\n",
              "    li.append(span(\n",
              "        `(${file.type || 'n/a'}) - ${file.size} bytes, ` +\n",
              "        `last modified: ${\n",
              "            file.lastModifiedDate ? file.lastModifiedDate.toLocaleDateString() :\n",
              "                                    'n/a'} - `));\n",
              "    const percent = span('0% done');\n",
              "    li.appendChild(percent);\n",
              "\n",
              "    outputElement.appendChild(li);\n",
              "\n",
              "    const fileDataPromise = new Promise((resolve) => {\n",
              "      const reader = new FileReader();\n",
              "      reader.onload = (e) => {\n",
              "        resolve(e.target.result);\n",
              "      };\n",
              "      reader.readAsArrayBuffer(file);\n",
              "    });\n",
              "    // Wait for the data to be ready.\n",
              "    let fileData = yield {\n",
              "      promise: fileDataPromise,\n",
              "      response: {\n",
              "        action: 'continue',\n",
              "      }\n",
              "    };\n",
              "\n",
              "    // Use a chunked sending to avoid message size limits. See b/62115660.\n",
              "    let position = 0;\n",
              "    do {\n",
              "      const length = Math.min(fileData.byteLength - position, MAX_PAYLOAD_SIZE);\n",
              "      const chunk = new Uint8Array(fileData, position, length);\n",
              "      position += length;\n",
              "\n",
              "      const base64 = btoa(String.fromCharCode.apply(null, chunk));\n",
              "      yield {\n",
              "        response: {\n",
              "          action: 'append',\n",
              "          file: file.name,\n",
              "          data: base64,\n",
              "        },\n",
              "      };\n",
              "\n",
              "      let percentDone = fileData.byteLength === 0 ?\n",
              "          100 :\n",
              "          Math.round((position / fileData.byteLength) * 100);\n",
              "      percent.textContent = `${percentDone}% done`;\n",
              "\n",
              "    } while (position < fileData.byteLength);\n",
              "  }\n",
              "\n",
              "  // All done.\n",
              "  yield {\n",
              "    response: {\n",
              "      action: 'complete',\n",
              "    }\n",
              "  };\n",
              "}\n",
              "\n",
              "scope.google = scope.google || {};\n",
              "scope.google.colab = scope.google.colab || {};\n",
              "scope.google.colab._files = {\n",
              "  _uploadFiles,\n",
              "  _uploadFilesContinue,\n",
              "};\n",
              "})(self);\n",
              "</script> "
            ]
          },
          "metadata": {}
        },
        {
          "output_type": "stream",
          "name": "stdout",
          "text": [
            "Saving 03. Newton's 3rd law Part 01 _ নিউটনের তৃতীয় সূত্র পর্ব ০১ _ OnnoRokom Pathshala.mp4 to 03. Newton's 3rd law Part 01 _ নিউটনের তৃতীয় সূত্র পর্ব ০১ _ OnnoRokom Pathshala (1).mp4\n"
          ]
        }
      ]
    },
    {
      "cell_type": "code",
      "source": [
        "video_filename = list(uploaded.keys())[0]\n",
        "print(f\"Uploaded file: {video_filename}\")"
      ],
      "metadata": {
        "colab": {
          "base_uri": "https://localhost:8080/"
        },
        "id": "YfhvhqOX6US7",
        "outputId": "828e6b74-ca99-4cdc-a4a3-1b9fc9348e87"
      },
      "execution_count": null,
      "outputs": [
        {
          "output_type": "stream",
          "name": "stdout",
          "text": [
            "Uploaded file: 03. Newton's 3rd law Part 01 _ নিউটনের তৃতীয় সূত্র পর্ব ০১ _ OnnoRokom Pathshala (1).mp4\n"
          ]
        }
      ]
    },
    {
      "cell_type": "code",
      "source": [
        "def extract_audio(video_path, audio_path=\"audio.wav\"):\n",
        "    \"\"\"Extract audio from video file\"\"\"\n",
        "    video = VideoFileClip(video_path)\n",
        "    audio = video.audio\n",
        "    audio.write_audiofile(audio_path, verbose=False, logger=None)\n",
        "    video.close()\n",
        "    audio.close()\n",
        "    return audio_path"
      ],
      "metadata": {
        "id": "mXsfieFb7kpx"
      },
      "execution_count": null,
      "outputs": []
    },
    {
      "cell_type": "code",
      "source": [
        "print(\"Extracting audio from video...\")\n",
        "audio_filename = extract_audio(video_filename)\n",
        "print(f\"Audio extracted to: {audio_filename}\")"
      ],
      "metadata": {
        "colab": {
          "base_uri": "https://localhost:8080/"
        },
        "id": "Sbsw_s2m7nvZ",
        "outputId": "5797c519-7078-44e8-8de5-e9723838fad3"
      },
      "execution_count": null,
      "outputs": [
        {
          "output_type": "stream",
          "name": "stdout",
          "text": [
            "Extracting audio from video...\n",
            "Audio extracted to: audio.wav\n"
          ]
        }
      ]
    },
    {
      "cell_type": "code",
      "source": [],
      "metadata": {
        "id": "C_eXVWHgsUDx"
      },
      "execution_count": null,
      "outputs": []
    },
    {
      "cell_type": "code",
      "source": [
        "result = model.transcribe(audio_filename, language='en')"
      ],
      "metadata": {
        "id": "-U-YUVGo77qL"
      },
      "execution_count": null,
      "outputs": []
    },
    {
      "cell_type": "code",
      "source": [
        "print(result[\"text\"])"
      ],
      "metadata": {
        "colab": {
          "base_uri": "https://localhost:8080/"
        },
        "id": "-D7sI0ED9YfA",
        "outputId": "94aad799-1bf9-44ce-a7cf-c41388014e3f"
      },
      "execution_count": null,
      "outputs": [
        {
          "output_type": "stream",
          "name": "stdout",
          "text": [
            " প্রাক্ষিয়ে প্রাক্ষিয়ে প্রাক্ষিয়ে প্রাক্ষিয়ে প্রাক্ষিয়ে প্রাক্ষিয়ে প্রাক্ষিয়ে প্রাক্ষিয়ে প্রাক্ষিয়ে প্রাক্ষিয়ে প্রাক্ষিয়ে প্রাক্ষিয়ে আমাদ একটা নামার বস্থতে একটা যেটান দেই ইন্ট্যেরেক্ষন একটা যেটান একটা ডিস্টান্স হেতে পারে কন্টাকট হেতে পারে তাঁচ কেয় হয়ে থেপের অথবা দুর থেকে আর দুযের উপর একজে বল দিলা তাঁনান দিলা এফ টু আন তাঁমাদের নেওডানে থাড় লাব বলে একটা বল হাবে পরশ্পরের মান সমান এবং দিখ হাবে বিপরি ছেটামাদে প্রবান করথা হাবে এইকটা একে শিকের করছি বলে দিশিলাম সেকেন লাটা হচে বেজ লাব আমাদর লাব সেই লাথেকে আমারা ফাস্ট লাব দিরেপ করে দাখেলা এখন দেখবা যে থার্ড লাক এটা দিরেপ করসম হবো এই সিস্টেম যেটা সেই সিস্টেমের যোদি ভরবেক চেঞ্জ করতা হয় এটা ভরবেক যোদি ভরবেক চেঞ্জ করতা হয় আমরা জানে মাস্ট বল প্রেক করতা হবে একটা বস্তু ভেবে নও ভারকেন্দ্র মতন একটা বস্তু ভবলেও কি ওয় বস্তু ইস্তি থাকবে একটা কোষ্ট তে ইস্থি থাকবে যদি বাজিক বল যদি বাজিক বলতে সুন্ন হয় তাল আমারা কাছ কোলান যে বাজিক বলতে সুন্ন দলন প্রতুমে একস্টেরনল ফোর্স মাধে রাকবো ইন্টেরনল না কিনতে একস্টেরনল ফোর্সতা একনা প্রতেরনল সিস্টেমার বাজিক কোলান তেছেনা তাঁন একটো ছিন্তা করি এফ ঵ান টু এফ স্টা কার উপর এফ স্টা হচ্ছে একনা মার বস্তুর উপর যার উপর বল সেইতন অর্বে তাঁল এখানে ভারবেকের পরিবর্তন হবে হচ্ছে একনা মার বস্তুর নেটনের সেকিন লান ভারবেকের পরিবর্তন হার ভজিক্ত বলে সমান এখানে একটা কে গুন থাকে সেটা এসা যুনিটে ওন আমনা ধরে নিসিলাম এবার F2 1 এটা কার উপর পজুক্ত এছা দুই নামর বস্তুর উপর আমনা দুই নামর বস্তুর উপর পজুক্ত হলে তার তরণ হাবে দুই নামর এটা তরণ হাবে সো দুই নামর ভর্বেকের ছেন্জ হলো তালে আমনা তালে তাল ভর্বেকের মানে এটিটার সম্যুদি করি F12 প্লাস F21 একলত্তো কি লাইখানে DP1 DT প্লাস DP2 DT প্লাস DP2 DT তালে ডান্পাসে আপার সেটা দেখতে পাছামন যদি কমন নি তালে DDT of P1 প্লাস P2 আর P1 P2 আসলে কি? এই পুরা সিস্টেমটে তটাল ভর্বেক তারমন এমনা দেখতে পাছামন যদি কমন নি তটাল ভর্বেক তটাল আমনি একটি আকেবা শিকের পরস্থিনি বাজ্জিক্বার শুন্ন হলে কোনো সিস্টেপে টটাল যে ভর্বেকের পরিবর্তনে হার সেটা শুন্ন হলে তারমনে টটাল যে কোনো চেন্ছ হাবেনা সাথা তারমনে কি দারেলো দারেপারস্টি শুন্ন যেতু বাজ্যিকোর শুন্ন আযুতা শুন্ন হার অর্থকি f12 শমান হাবে মাইনস f21 তালে ঵েক্টার দিটা শমান কিন্তো সাম্নেকে মাইনস চিনো তার অর্থকি তার দিক বিপরিত দিক অপসিট কিন্তো মান কি হবে দিপাসে যদি মডিল সনা মান হবে সেম মান সেম এই গথাটাই কিন্তো নেটনে থারনল যদে উব্ধন্তরিন বলু বলানে তারা পন্সকার মানে সমান হবে এবং দিকে বিপরি থাবে এবং অফকোর্স অবশ্যয় যদি মডে রাক্থাবে সেটাছে অবশ্যয় দিটা বল দিটা ভিন্ডা বস্তুর উপর কাছ করবে এই একে বল দেবে এই আবার অকে বল দেবে তাল আমরা একন গন্ফিশন যাতে এরাইজ না করে যে একই বস্তুর উপর দিটা বল কেমরা ক্রিযা পতিক্রিযার জোরা বলেছি সেরকম একটা কেস দেখায়ে তো খিযাল করনো যে সাপল একটা টেবিলের উপর একটা বয় রাথায়ছে বারে একটা রেডিও বস্তুর আখার তো আমারা যাদে একটম কমন সেস থেকে বলি অতো না ভেমে যে এই বস্তুরএকে পেথিভি টান্পেসে নিচের দিকে কাকে টান্পেসে বস্তুরটি এবং স্তুরটি অটে মিল্ত চাপ দিসে পলে টেবিল উপরে দিকে পতিক্রিযা যা দিসে আমিলাম পোপতিক্রিযা R এখন কোনটা ক্রিযা কোনটা পতিক্রিযা এখন কোশন ওছে W ক্রিযা বা R ক্রিযা না কি W পতিক্রিযা এই পশ্যটা অবন্তর কোশনটা হয়নি কেন হয়নি আমিলা ক্রিযা পতিক্রিযা অবশ্য এখন কিনতে অনেকিয়া ভল ধারণা থাকে এই পতিক্রিযা এতকন ধারণা নাম দেটা আপনা চেন্জ করে ভিলি দরকন হলে ক্রিযা মলো পতিক্রিযা মলো এরা কিনতো বল এরা কিনতো ভিন্ন গলো কাজ না কর্মো না বা সক্তির ট্রান্স্ফর না এরহচ্ছে একটি ব� বস্তু বাড়ি ইন্ট্রেক্টিং বস্তু তলে এখন আপশ্য মাথায় রাখুপো যাকে ভুলে গেসে অলেটি প্রিথিবি প্রিথিবি কিনতো নিছে � এটা কাকে দিলো টেবিল কে চাপ দিসে বলে ইতো টেবিল কি করসে বস্তু রূপর চাপ প্রয় করসে বা বল প্রয় করসে বস্তু দাই খুজে বের করো এটিয়ান সামাদে থার্ড লাক প্রিযা পতিক্রা বের করনো মেনশাক্তু এটিয়ান সামাদে করনো মেনশাক্তু এটিয়ান সামাদে করনো মেনশাক্তু এটিয়ান সামাদে করনো মেনশাক্তু এটিয়ান সামাদে করনো মেনশাক্তু এটিয়ান সামাদে করনো মেনশাক্তু এটিয়ান সামাদে করনো মেনশাক্তু এটিয়ান সামাদে করনো মেনশাক্তু এটিয়ান সামাদে করনো মেনশাক্তু এটিয়ান সামাদে করনো মেনশাক্তু এটিয়ান সামাদে করনো মেনশাক্তু এটিয়ান সামাদে করনো মেনশাক্তু তালে তার জন্য এই পাশে একটা বল থাক্বে জোদি ও ইখানে টানা রেনিকন লোগ থাকে এবং এটা আরিক্টো সুন্দর ভাবে পুছানা যে কি ভাবে পুছানা যে তাকো আমরা জানে ভেক্টোর কে উপাংক শেভাক করা যে তালে এই এটা ভেক্টোর বা এই এটা বল এমজি সপোজ তালে এটা কে আমরা উপাংক শেভাক কে পাড়ি তালে এই বল্গুলা যখন আমরা আকি এটা মাথার এক বা অবশ্রি একটা বল হিতে পারেনা দুই টামল জরায় জরায় তুনি হয় কি ভাবে আমরা মাথরি দেখলান এই বস্তুর ওজন খারা নিচে কাছ করে তালে অবশ্রি ধরে নিদেছি এই এমজি বলটান দিসে এখন এই এমজি বলটাকে তুমি চাইলে কোটি কটি তুকরা করতে পারো আমরা এই একটারের উপাক্ষয় শুত্রকেমে কাটেই বহুবশ শুত্রকেই একটার বিক্টরকে দাইকু কতো গুলা তুকরা করাদে এক দুই তীন চাড পাঁচ সাথ দুরে খুশি যে ভাবে খুশি গিয় লাস্টি এখানে পিল্লে হয়ে তলে আদি থেকে শেষাবে লাভধি তলে একটা দুই তিন চাড পাঁচ সাথ আঠ নয় এরগম কোটি কোটি ডিরেক্ষনে তুমি এটাকে উপাক্ষে ভাংগতে ভারো তাই যদি পাঁচ একটি গ্যান্যা হয়েলো এরক্ষেত্র তো থারলো অন্যশের একটি পাইসো মেন যে তালো তা থারলো অন্যশের একটি বিপরিত পতিক্রিযা আসে কিন্তা এখন কোঈশেন হচ্ছে এটার আরকে একটি বিপরিত পতিক্রিযা আসে এটার আরকে একটি বিপরিত পতিক্রিযা থাকবে কিনা কিমা এই বলটারকে একটি বিপরিত পতিক্রিযা থাকবে কিনা উত্যান হচ্ছে থাকবে না তাও দেখন এটাকটা বাস্তো বলছিলনা এমজি তাও দেখন তাও শুরুতে যে বলটা ছিলো সে বলটা কার উপর ছিলো এটানেস বলটার উপর কে দিসিল প্রিথিবি ফালে থারলা উনেশারে সে কার উপর দিসিলো প্রিথিবির পর মানে থারলা এপলিকেবল খাটলো এখন কোয়শন হচ্ছে এই বল্টাকে চে আমার এতকলো তুকরা করসি বার উবাংকশে আমি ভক্ত করসি সে ইন্ডিভিজিয়াল বা এককটি উবাংকশের কেত্র একটা করে বিপরিত প্রতিকে আসে কেনা কোয়াসন আসারট হচ্ছে না কারণ খিযাঁ করো এখানের এগেন্সটা একটা প্রিথিবে ছিলো মানে এই এবং বি নামের দুডা বস্তু ছিলো ফলে তাদে মতে ইন্টেরেক্শন হিসে এবং বিকে বি একে কিন্তু এই রেগেন্সটি একনো বস্তু এছে এই বস্তু এই বল্তার রেগেন্সটি একনো বস্তু এছে যে ইন্টারেক্ট করবে স্তু এটিকটু ভাবো একটা লোর একটা বেটার আসনে সেটা বল হতে পারে সরণ হতে পারে তাইকটা অনেক গুলে উপাংশে ভাংগলাম একটা বল একটা অনেক উপাংশে ভাংগলাম প্রত্রিক্যের ক্ষেত্রে থারলা খাটেতে যায়না কারণ থাড্লা খাটারনো জনে A এবং B একন বস্তুর দিনা বস্তুকে খুয়ে পেতে হয়ে কিন্তু এখানে কোনো রকন বস্তু ছিলনা কারণ তুমি আন্দাজে বিভিন্য রিডেকশনে ভাঙ্তে পারো একটা বলকে তেটা মাথে রাখু থাড্লা দুইটা জিনিশে খাটে লা একটা আছে বাস্তোব যোরায় যোরায় বলগোলো বাস্তোব বলের খেত্রে তাদে লোব্ধি ব্যাপার্টার কোনো থাড্লা খাটবে না একিভাবে একটা বল কে তুক্রা করতে পার অশংখর ডিরেক্ষনে ওই ডিরেক্ষনে তাদে থাড্লা দেওর জন্য আইমিন প্রতিক্রা দেওর জন্য বস্তুরা কিন্তু উপস্তিত নাই তাবরি একটা দিনিশক্যে অশংখর টুকরা করলেই সক্কাটির টুকরা যাইকটি মেনিংফুল আদে আমনটা না এমন হিতিই পারে ওই যাগে ওটার কোন অস্তিত্তি নিয় কেকাসে? তাই আমরা এমন যাগে দিটি উপাংশে ভাঙে যাইকগোল মেনিংফুল উপাংশে হয় আইদা তল বরাবার ভাঙে তলে সাথে লংবো বরাবার ভাঙে একটার মেনিংক হয় হয় তলে চাপ্রেও করে আর একটা মেনিংক হয় তল বরাবার ঠেলে তাকে নিচে নামায় তাই উপাংশে কিংতি ইচ্ছামত ভাংগলি চলে না আমাদের প্রয়জননো সেরে এমরা একটা বলকে উপাংশে ভেঙে নিই\n"
          ]
        }
      ]
    }
  ]
}